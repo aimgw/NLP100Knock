{
 "cells": [
  {
   "cell_type": "markdown",
   "metadata": {},
   "source": [
    "言語処理100本ノック用ノートブック\n",
    "必要なライブラリは追加する"
   ]
  },
  {
   "cell_type": "code",
   "execution_count": 5,
   "metadata": {},
   "outputs": [
    {
     "data": {
      "text/plain": [
       "'desserts'"
      ]
     },
     "execution_count": 5,
     "metadata": {},
     "output_type": "execute_result"
    }
   ],
   "source": [
    "#00.文字列の逆順\n",
    "str = \"stressed\"\n",
    "str_list = list(reversed(str))\n",
    "ans = ''.join(str_list)\n",
    "ans\n",
    "\n",
    "#スライスで逆順に取得\n",
    "ans2 = str[::-1]\n",
    "ans2"
   ]
  },
  {
   "cell_type": "code",
   "execution_count": 7,
   "metadata": {},
   "outputs": [
    {
     "data": {
      "text/plain": [
       "'パトカー'"
      ]
     },
     "execution_count": 7,
     "metadata": {},
     "output_type": "execute_result"
    }
   ],
   "source": [
    "#01. パタトクカシー\n",
    "str = \"パタトクカシーー\"\n",
    "ans = str[::2]\n",
    "ans"
   ]
  },
  {
   "cell_type": "code",
   "execution_count": 11,
   "metadata": {},
   "outputs": [
    {
     "data": {
      "text/plain": [
       "'パタトクカシーー'"
      ]
     },
     "execution_count": 11,
     "metadata": {},
     "output_type": "execute_result"
    }
   ],
   "source": [
    "#02.「パトカー」＋「タクシー」＝「パタトクカシーー」\n",
    "s = \"パトカー\"\n",
    "t = \"タクシー\"\n",
    "ans = ''.join([s[i] + t[i] for i in range(len(s))])\n",
    "ans"
   ]
  },
  {
   "cell_type": "code",
   "execution_count": 16,
   "metadata": {},
   "outputs": [
    {
     "data": {
      "text/plain": [
       "[3, 1, 4, 1, 5, 9, 2, 6, 5, 3, 5, 8, 9, 7, 9]"
      ]
     },
     "execution_count": 16,
     "metadata": {},
     "output_type": "execute_result"
    }
   ],
   "source": [
    "#03.円周率\n",
    "str = 'Now I need a drink, alcoholic of course, after the heavy lectures involving quantum mechanics.'\n",
    "import re\n",
    "new_str = re.sub('[,\\.]', '', str)\n",
    "word_list = new_str.split()\n",
    "ans = [len(i) for i in word_list]\n",
    "ans"
   ]
  },
  {
   "cell_type": "code",
   "execution_count": 24,
   "metadata": {},
   "outputs": [
    {
     "data": {
      "text/plain": [
       "{'H': 1,\n",
       " 'He': 2,\n",
       " 'Li': 3,\n",
       " 'Be': 4,\n",
       " 'B': 5,\n",
       " 'C': 6,\n",
       " 'N': 7,\n",
       " 'O': 8,\n",
       " 'F': 9,\n",
       " 'Ne': 10,\n",
       " 'Na': 11,\n",
       " 'Mi': 12,\n",
       " 'Al': 13,\n",
       " 'Si': 14,\n",
       " 'P': 15,\n",
       " 'S': 16,\n",
       " 'Cl': 17,\n",
       " 'Ar': 18,\n",
       " 'K': 19,\n",
       " 'Ca': 20}"
      ]
     },
     "execution_count": 24,
     "metadata": {},
     "output_type": "execute_result"
    }
   ],
   "source": [
    "#04.元素記号\n",
    "text = 'Hi He Lied Because Boron Could Not Oxidize Fluorine. New Nations Might Also Sign Peace Security Clause. Arthur King Can.'\n",
    "new_text = re.sub('[,\\.]', '', text)\n",
    "word_list = new_text.split()\n",
    "l = [1, 5, 6, 7, 8, 9, 15, 16, 19]\n",
    "ans = {}\n",
    "for i, word in enumerate(word_list):\n",
    "    if i+1 in l:\n",
    "        ans[word[:1]] = i+1\n",
    "    else:\n",
    "        ans[word[:2]] = i+1\n",
    "ans"
   ]
  },
  {
   "cell_type": "code",
   "execution_count": 26,
   "metadata": {},
   "outputs": [
    {
     "data": {
      "text/plain": [
       "['I ', ' a', 'am', 'm ', ' a', 'an', 'n ', ' N', 'NL', 'LP', 'Pe', 'er']"
      ]
     },
     "execution_count": 26,
     "metadata": {},
     "output_type": "execute_result"
    }
   ],
   "source": [
    "#05.n-gram\n",
    "def n_gram(str, n):\n",
    "    res = [str[i:i+n] for i in range(len(str)-n+1)]\n",
    "    return res\n",
    "s = 'I am an NLPer'\n",
    "word_list = s.split()\n",
    "#単語bi-gram\n",
    "ans1 = n_gram(word_list, 2)\n",
    "ans1\n",
    "#文字bi-gram\n",
    "ans2 = n_gram(s, 2)\n",
    "ans2"
   ]
  },
  {
   "cell_type": "code",
   "execution_count": 33,
   "metadata": {},
   "outputs": [
    {
     "data": {
      "text/plain": [
       "{'ad', 'di', 'is', 'se'}"
      ]
     },
     "execution_count": 33,
     "metadata": {},
     "output_type": "execute_result"
    }
   ],
   "source": [
    "#06.集合\n",
    "s = 'paraparaparadise'\n",
    "t = 'paragraph'\n",
    "X = set(n_gram(s, 2))\n",
    "Y = set(n_gram(t, 2))\n",
    "#X\n",
    "Y\n",
    "#和集合\n",
    "ans1 = X | Y\n",
    "ans1\n",
    "#積集合\n",
    "ans2 = X & Y\n",
    "ans2\n",
    "#差集合\n",
    "ans3 = X - Y\n",
    "ans3"
   ]
  },
  {
   "cell_type": "code",
   "execution_count": 34,
   "metadata": {},
   "outputs": [
    {
     "data": {
      "text/plain": [
       "'12時の気温は22.4'"
      ]
     },
     "execution_count": 34,
     "metadata": {},
     "output_type": "execute_result"
    }
   ],
   "source": [
    "#07.テンプレートによる文生成\n",
    "def temp(x, y, z):\n",
    "    return f'{x}時の{y}は{z}'\n",
    "\n",
    "ans = temp(12, '気温', 22.4)\n",
    "ans"
   ]
  },
  {
   "cell_type": "code",
   "execution_count": 40,
   "metadata": {},
   "outputs": [
    {
     "data": {
      "text/plain": [
       "'12jd34vi sv56ool'"
      ]
     },
     "execution_count": 40,
     "metadata": {},
     "output_type": "execute_result"
    }
   ],
   "source": [
    "#08.暗号文\n",
    "def cipher(str):\n",
    "    return ''.join([chr(219 - ord(s)) if s.islower() else s for s in str])\n",
    "\n",
    "ans = '12qw34er he56llo'\n",
    "cipher(ans)\n"
   ]
  },
  {
   "cell_type": "code",
   "execution_count": 45,
   "metadata": {},
   "outputs": [
    {
     "data": {
      "text/plain": [
       "'I clou’dnt bvlieee that I colud altcualy uednsntrad what I was rinaedg : the pnoeahenml peowr of the hamun mind .'"
      ]
     },
     "execution_count": 45,
     "metadata": {},
     "output_type": "execute_result"
    }
   ],
   "source": [
    "#09.Typoglycemia\n",
    "import random\n",
    "def typoglycemia(str):\n",
    "    if len(str) > 4:\n",
    "        top_c = str[0]\n",
    "        back_c = str[-1]\n",
    "        text = str[1:-1]\n",
    "        text = ''.join(random.sample(text, len(text)))\n",
    "        return top_c + text + back_c\n",
    "    else:\n",
    "        return str\n",
    "\n",
    "str = 'I couldn’t believe that I could actually understand what I was reading : the phenomenal power of the human mind .'\n",
    "word_list = str.split()\n",
    "ans = ' '.join([typoglycemia(word) for word in word_list])\n",
    "ans\n"
   ]
  },
  {
   "cell_type": "code",
   "execution_count": null,
   "metadata": {},
   "outputs": [],
   "source": []
  }
 ],
 "metadata": {
  "kernelspec": {
   "display_name": "Python 3.8.2 64-bit",
   "language": "python",
   "name": "python3"
  },
  "language_info": {
   "codemirror_mode": {
    "name": "ipython",
    "version": 3
   },
   "file_extension": ".py",
   "mimetype": "text/x-python",
   "name": "python",
   "nbconvert_exporter": "python",
   "pygments_lexer": "ipython3",
   "version": "3.8.2"
  },
  "orig_nbformat": 4,
  "vscode": {
   "interpreter": {
    "hash": "949777d72b0d2535278d3dc13498b2535136f6dfe0678499012e853ee9abcab1"
   }
  }
 },
 "nbformat": 4,
 "nbformat_minor": 2
}
